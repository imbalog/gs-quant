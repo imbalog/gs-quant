{
 "cells": [
  {
   "cell_type": "code",
   "execution_count": null,
   "metadata": {},
   "outputs": [],
   "source": [
    "# Portfolio instruments can be updated\n",
    "\n",
    "import datetime as dt\n",
    "from gs_quant.common import PayReceive, Currency  # import constants\n",
    "from gs_quant.instrument import IRSwaption  # import instruments\n",
    "from gs_quant.markets.portfolio import Portfolio\n",
    "from gs_quant.session import Environment, GsSession  # import sessions\n",
    "\n",
    "\n",
    "client_id = None  # Supply your application id\n",
    "client_secret = None  # Supply your client secret\n",
    "scopes = ('run_analytics',)\n",
    "GsSession.use(Environment.PROD, client_id, client_secret, scopes)"
   ]
  },
  {
   "cell_type": "code",
   "execution_count": null,
   "metadata": {
    "collapsed": false,
    "jupyter": {
     "outputs_hidden": false
    },
    "pycharm": {
     "name": "#%%\n"
    }
   },
   "outputs": [],
   "source": [
    "swaption1 = IRSwaption(PayReceive.Pay, '5y', Currency.EUR, expiration_date='3m', name='EUR-3m5y Payer')\n",
    "swaption2 = IRSwaption(PayReceive.Pay, '7y', Currency.EUR, expiration_date='9m', name='EUR-9m7y Payer')\n",
    "swaption_midcurve = IRSwaption(PayReceive.Receive, '10y', Currency.EUR, effective_date = '10y', expiration_date='6m', name='EUR-6m10y10y Receiver')\n"
   ]
  },
  {
   "cell_type": "code",
   "execution_count": null,
   "metadata": {
    "collapsed": false,
    "jupyter": {
     "outputs_hidden": false
    },
    "pycharm": {
     "name": "#%%\n"
    }
   },
   "outputs": [],
   "source": [
    "portfolio = Portfolio((swaption1, swaption2))\n",
    "print( portfolio.instruments )"
   ]
  },
  {
   "cell_type": "code",
   "execution_count": null,
   "metadata": {
    "collapsed": false,
    "jupyter": {
     "outputs_hidden": false
    },
    "pycharm": {
     "name": "#%%\n"
    }
   },
   "outputs": [],
   "source": [
    "portfolio.instruments = (swaption1, swaption2, swaption_midcurve)\n",
    "print( portfolio.instruments )"
   ]
  }
 ],
 "metadata": {
  "kernelspec": {
   "display_name": "Python 3",
   "language": "python",
   "name": "python3"
  },
  "language_info": {
   "codemirror_mode": {
    "name": "ipython",
    "version": 3
   },
   "file_extension": ".py",
   "mimetype": "text/x-python",
   "name": "python",
   "nbconvert_exporter": "python",
   "pygments_lexer": "ipython3",
   "version": "3.7.0"
  },
  "pycharm": {
   "stem_cell": {
    "cell_type": "raw",
    "metadata": {
     "collapsed": false
    },
    "source": []
   }
  }
 },
 "nbformat": 4,
 "nbformat_minor": 4
}
