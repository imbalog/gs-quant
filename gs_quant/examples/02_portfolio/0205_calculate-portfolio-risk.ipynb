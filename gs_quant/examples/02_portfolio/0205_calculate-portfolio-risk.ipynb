{
 "cells": [
  {
   "cell_type": "code",
   "execution_count": null,
   "metadata": {},
   "outputs": [],
   "source": [
    "# Calculate portfolio risks\n",
    "\n",
    "from gs_quant.common import PayReceive, Currency  # import constants\n",
    "from gs_quant.instrument import IRSwaption  # import instruments\n",
    "from gs_quant.markets.portfolio import Portfolio\n",
    "import gs_quant.risk as risk\n",
    "from gs_quant.session import Environment, GsSession  # import sessions\n",
    "\n",
    "client_id = None  # Supply your application id\n",
    "client_secret = None  # Supply your client secret\n",
    "scopes = ('run_analytics',)\n",
    "GsSession.use(Environment.PROD, client_id, client_secret, scopes)"
   ]
  },
  {
   "cell_type": "code",
   "execution_count": null,
   "metadata": {
    "collapsed": false,
    "jupyter": {
     "outputs_hidden": false
    },
    "pycharm": {
     "name": "#%%\n"
    }
   },
   "outputs": [],
   "source": [
    "swaption1 = IRSwaption(PayReceive.Pay, '5y', Currency.EUR, expiration_date='3m', name='EUR-3m5y')\n",
    "swaption2 = IRSwaption(PayReceive.Pay, '5y', Currency.EUR, expiration_date='6m', name='EUR-6m5y')\n",
    "portfolio = Portfolio((swaption1, swaption2))\n",
    "result = portfolio.calc((risk.DollarPrice, risk.IRDelta))"
   ]
  },
  {
   "cell_type": "code",
   "execution_count": null,
   "metadata": {
    "collapsed": false,
    "jupyter": {
     "outputs_hidden": false
    },
    "pycharm": {
     "name": "#%%\n"
    }
   },
   "outputs": [],
   "source": [
    "# instrument risk\n",
    "print(result[risk.DollarPrice]['EUR-3m5y'])\n",
    "print(result['EUR-3m5y'][risk.DollarPrice])"
   ]
  },
  {
   "cell_type": "code",
   "execution_count": null,
   "metadata": {
    "collapsed": false,
    "jupyter": {
     "outputs_hidden": false
    },
    "pycharm": {
     "name": "#%%\n"
    }
   },
   "outputs": [],
   "source": [
    "# portfolio risk\n",
    "print(result[risk.IRDelta].aggregate())"
   ]
  }
 ],
 "metadata": {
  "kernelspec": {
   "display_name": "Python 3",
   "language": "python",
   "name": "python3"
  },
  "language_info": {
   "codemirror_mode": {
    "name": "ipython",
    "version": 2
   },
   "file_extension": ".py",
   "mimetype": "text/x-python",
   "name": "python",
   "nbconvert_exporter": "python",
   "pygments_lexer": "ipython2",
   "version": "2.7.6"
  },
  "pycharm": {
   "stem_cell": {
    "cell_type": "raw",
    "source": [],
    "metadata": {
     "collapsed": false
    }
   }
  }
 },
 "nbformat": 4,
 "nbformat_minor": 4
}